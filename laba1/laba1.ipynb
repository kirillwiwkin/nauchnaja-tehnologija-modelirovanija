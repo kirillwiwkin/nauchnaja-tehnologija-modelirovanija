{
 "cells": [
  {
   "cell_type": "markdown",
   "id": "6400e54c-424b-423b-b90a-de6a933ab1aa",
   "metadata": {
    "tags": []
   },
   "source": [
    "### Вариант 7\n",
    "Выполнить следующее преобразование трех произвольных\n",
    "действительных чисел: $x_1- x_2 - x_3+4$"
   ]
  },
  {
   "cell_type": "code",
   "execution_count": 1,
   "id": "003338a6-f19f-4a8c-8193-d11b34854fad",
   "metadata": {
    "tags": []
   },
   "outputs": [],
   "source": [
    "import os\n",
    "os.environ['TF_CPP_MIN_LOG_LEVEL'] = '2'"
   ]
  },
  {
   "cell_type": "code",
   "execution_count": 11,
   "id": "941819e9-64fd-4590-818f-4f76553a9cc9",
   "metadata": {
    "tags": []
   },
   "outputs": [],
   "source": [
    "import numpy as np\n",
    "import matplotlib.pyplot as plt\n",
    "from tensorflow import keras\n",
    "from tensorflow.keras.layers import Dense"
   ]
  },
  {
   "cell_type": "code",
   "execution_count": 13,
   "id": "389edfea-16d8-422f-9bf7-084de3d9bbf7",
   "metadata": {
    "tags": []
   },
   "outputs": [],
   "source": [
    "x1_train = np.concatenate((np.random.random(10), np.random.random(10)-1))\n",
    "x2_train = np.concatenate((np.random.random(10), np.random.random(10)-1))\n",
    "x3_train = np.concatenate((np.random.random(10), np.random.random(10)-1))\n",
    "x_train = np.array(list(zip(x1_train, x2_train, x3_train)))\n",
    "y_train = np.array(x_train[:,0] - x_train[:,1] - x_train[:,2] + 4)"
   ]
  },
  {
   "cell_type": "code",
   "execution_count": 14,
   "id": "e1e25fb8-f178-4081-815e-c11ecda872c4",
   "metadata": {
    "tags": []
   },
   "outputs": [],
   "source": [
    "model = keras.Sequential()\n",
    "model.add(Dense(units=1, input_shape=(3,), activation='linear'))\n",
    "model.compile(loss='mean_squared_error', optimizer=keras.optimizers.Adam(0.1))"
   ]
  },
  {
   "cell_type": "code",
   "execution_count": 15,
   "id": "debf1b4d-9e5c-4211-a847-7fdbb06f6cae",
   "metadata": {
    "tags": []
   },
   "outputs": [],
   "source": [
    "history = model.fit(x_train, y_train, epochs=500, verbose=False)"
   ]
  },
  {
   "cell_type": "code",
   "execution_count": 16,
   "id": "90d96faf-81ca-49b7-acbd-6d47e1a1e499",
   "metadata": {
    "tags": []
   },
   "outputs": [
    {
     "data": {
      "image/png": "[encoded data removed]",
      "text/plain": [
       "<Figure size 640x480 with 1 Axes>"
      ]
     },
     "metadata": {},
     "output_type": "display_data"
    }
   ],
   "source": [
    "plt.plot(history.history['loss'])\n",
    "plt.grid(True)"
   ]
  },
  {
   "cell_type": "code",
   "execution_count": 17,
   "id": "7118af07-6151-460e-ba94-e1c0f92f7ede",
   "metadata": {
    "tags": []
   },
   "outputs": [
    {
     "data": {
      "text/plain": [
       "array([[5.000001]], dtype=float32)"
      ]
     },
     "execution_count": 17,
     "metadata": {},
     "output_type": "execute_result"
    }
   ],
   "source": [
    "model.predict([[5,3,1]], verbose=False) # 5 - 3 - 1 + 4 = 5"
   ]
  },
  {
   "cell_type": "code",
   "execution_count": 18,
   "id": "9c4f3cc6-933e-4ede-8774-fbc03e8a6cd2",
   "metadata": {
    "tags": []
   },
   "outputs": [
    {
     "data": {
      "text/plain": [
       "array([[4.9999995]], dtype=float32)"
      ]
     },
     "execution_count": 18,
     "metadata": {},
     "output_type": "execute_result"
    }
   ],
   "source": [
    "model.predict([[-1,-1,-1]], verbose=False) # -1 - (-1) - (-1) + 4 = 5"
   ]
  }
 ],
 "metadata": {
  "kernelspec": {
   "display_name": "Python 3 (ipykernel)",
   "language": "python",
   "name": "python3"
  },
  "language_info": {
   "codemirror_mode": {
    "name": "ipython",
    "version": 3
   },
   "file_extension": ".py",
   "mimetype": "text/x-python",
   "name": "python",
   "nbconvert_exporter": "python",
   "pygments_lexer": "ipython3",
   "version": "3.10.6"
  }
 },
 "nbformat": 4,
 "nbformat_minor": 5
}
